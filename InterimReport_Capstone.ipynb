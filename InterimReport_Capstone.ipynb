{
  "nbformat": 4,
  "nbformat_minor": 0,
  "metadata": {
    "colab": {
      "name": "InterimReport_Capstone.ipynb",
      "provenance": [],
      "collapsed_sections": [],
      "authorship_tag": "ABX9TyOFJHGesgLZxdYksMkah94E",
      "include_colab_link": true
    },
    "kernelspec": {
      "name": "python3",
      "display_name": "Python 3"
    },
    "language_info": {
      "name": "python"
    }
  },
  "cells": [
    {
      "cell_type": "markdown",
      "metadata": {
        "id": "view-in-github",
        "colab_type": "text"
      },
      "source": [
        "<a href=\"https://colab.research.google.com/github/mdkhader228/InterimReport/blob/alice_branch/InterimReport_Capstone.ipynb\" target=\"_parent\"><img src=\"https://colab.research.google.com/assets/colab-badge.svg\" alt=\"Open In Colab\"/></a>"
      ]
    },
    {
      "cell_type": "markdown",
      "metadata": {
        "id": "yWRjUgiSRPzR"
      },
      "source": [
        "# Capstone Project_InterimReport"
      ]
    },
    {
      "cell_type": "markdown",
      "metadata": {
        "id": "oUgVVf3bRXni"
      },
      "source": [
        "Import required Libraries"
      ]
    },
    {
      "cell_type": "code",
      "metadata": {
        "id": "Bn8fGEp8Rasa"
      },
      "source": [
        "\n",
        "import pandas as pd\n",
        "import matplotlib.pyplot as plt\n",
        "import seaborn as sns\n",
        "import numpy as np\n",
        "\n",
        "from IPython.display import display\n",
        "pd.options.display.max_columns = None\n",
        "pd.options.display.max_rows = None"
      ],
      "execution_count": null,
      "outputs": []
    },
    {
      "cell_type": "markdown",
      "metadata": {
        "id": "vxewoh3pRwDj"
      },
      "source": [
        "EDA and Preprocessing of data"
      ]
    },
    {
      "cell_type": "code",
      "metadata": {
        "colab": {
          "base_uri": "https://localhost:8080/",
          "height": 206
        },
        "id": "4InggqrvR13v",
        "outputId": "98d45b03-5701-4f4f-b38c-001e358f6221"
      },
      "source": [
        "# Reading the data\n",
        "df = pd.read_excel('input_data.xlsx')\n",
        "\n",
        "# Displaying first 5 rows in data\n",
        "df.head()"
      ],
      "execution_count": null,
      "outputs": [
        {
          "output_type": "execute_result",
          "data": {
            "text/html": [
              "<div>\n",
              "<style scoped>\n",
              "    .dataframe tbody tr th:only-of-type {\n",
              "        vertical-align: middle;\n",
              "    }\n",
              "\n",
              "    .dataframe tbody tr th {\n",
              "        vertical-align: top;\n",
              "    }\n",
              "\n",
              "    .dataframe thead th {\n",
              "        text-align: right;\n",
              "    }\n",
              "</style>\n",
              "<table border=\"1\" class=\"dataframe\">\n",
              "  <thead>\n",
              "    <tr style=\"text-align: right;\">\n",
              "      <th></th>\n",
              "      <th>Short description</th>\n",
              "      <th>Description</th>\n",
              "      <th>Caller</th>\n",
              "      <th>Assignment group</th>\n",
              "    </tr>\n",
              "  </thead>\n",
              "  <tbody>\n",
              "    <tr>\n",
              "      <th>0</th>\n",
              "      <td>login issue</td>\n",
              "      <td>-verified user details.(employee# &amp; manager na...</td>\n",
              "      <td>spxjnwir pjlcoqds</td>\n",
              "      <td>GRP_0</td>\n",
              "    </tr>\n",
              "    <tr>\n",
              "      <th>1</th>\n",
              "      <td>outlook</td>\n",
              "      <td>\\r\\n\\r\\nreceived from: hmjdrvpb.komuaywn@gmail...</td>\n",
              "      <td>hmjdrvpb komuaywn</td>\n",
              "      <td>GRP_0</td>\n",
              "    </tr>\n",
              "    <tr>\n",
              "      <th>2</th>\n",
              "      <td>cant log in to vpn</td>\n",
              "      <td>\\r\\n\\r\\nreceived from: eylqgodm.ybqkwiam@gmail...</td>\n",
              "      <td>eylqgodm ybqkwiam</td>\n",
              "      <td>GRP_0</td>\n",
              "    </tr>\n",
              "    <tr>\n",
              "      <th>3</th>\n",
              "      <td>unable to access hr_tool page</td>\n",
              "      <td>unable to access hr_tool page</td>\n",
              "      <td>xbkucsvz gcpydteq</td>\n",
              "      <td>GRP_0</td>\n",
              "    </tr>\n",
              "    <tr>\n",
              "      <th>4</th>\n",
              "      <td>skype error</td>\n",
              "      <td>skype error</td>\n",
              "      <td>owlgqjme qhcozdfx</td>\n",
              "      <td>GRP_0</td>\n",
              "    </tr>\n",
              "  </tbody>\n",
              "</table>\n",
              "</div>"
            ],
            "text/plain": [
              "               Short description  \\\n",
              "0                    login issue   \n",
              "1                        outlook   \n",
              "2             cant log in to vpn   \n",
              "3  unable to access hr_tool page   \n",
              "4                   skype error    \n",
              "\n",
              "                                         Description             Caller  \\\n",
              "0  -verified user details.(employee# & manager na...  spxjnwir pjlcoqds   \n",
              "1  \\r\\n\\r\\nreceived from: hmjdrvpb.komuaywn@gmail...  hmjdrvpb komuaywn   \n",
              "2  \\r\\n\\r\\nreceived from: eylqgodm.ybqkwiam@gmail...  eylqgodm ybqkwiam   \n",
              "3                      unable to access hr_tool page  xbkucsvz gcpydteq   \n",
              "4                                       skype error   owlgqjme qhcozdfx   \n",
              "\n",
              "  Assignment group  \n",
              "0            GRP_0  \n",
              "1            GRP_0  \n",
              "2            GRP_0  \n",
              "3            GRP_0  \n",
              "4            GRP_0  "
            ]
          },
          "metadata": {},
          "execution_count": 2
        }
      ]
    },
    {
      "cell_type": "markdown",
      "metadata": {
        "id": "h0UNKy-BSl1Y"
      },
      "source": [
        "Shape of data"
      ]
    },
    {
      "cell_type": "code",
      "metadata": {
        "colab": {
          "base_uri": "https://localhost:8080/"
        },
        "id": "78doDMUzSogc",
        "outputId": "c1d796f9-1ba2-4d33-c124-b699de2a2c7c"
      },
      "source": [
        "df.shape"
      ],
      "execution_count": null,
      "outputs": [
        {
          "output_type": "execute_result",
          "data": {
            "text/plain": [
              "(8500, 4)"
            ]
          },
          "metadata": {},
          "execution_count": 3
        }
      ]
    },
    {
      "cell_type": "code",
      "metadata": {
        "colab": {
          "base_uri": "https://localhost:8080/"
        },
        "id": "w5bm4UkGSqOQ",
        "outputId": "3db54e92-6646-40cf-c2d8-ce2e2fb00edc"
      },
      "source": [
        "df.info()"
      ],
      "execution_count": null,
      "outputs": [
        {
          "output_type": "stream",
          "name": "stdout",
          "text": [
            "<class 'pandas.core.frame.DataFrame'>\n",
            "RangeIndex: 8500 entries, 0 to 8499\n",
            "Data columns (total 4 columns):\n",
            " #   Column             Non-Null Count  Dtype \n",
            "---  ------             --------------  ----- \n",
            " 0   Short description  8492 non-null   object\n",
            " 1   Description        8499 non-null   object\n",
            " 2   Caller             8500 non-null   object\n",
            " 3   Assignment group   8500 non-null   object\n",
            "dtypes: object(4)\n",
            "memory usage: 265.8+ KB\n"
          ]
        }
      ]
    },
    {
      "cell_type": "markdown",
      "metadata": {
        "id": "5KZpBZAqTQT5"
      },
      "source": [
        "Noticed below points from data"
      ]
    },
    {
      "cell_type": "markdown",
      "metadata": {
        "id": "wZeENBf7Tcpp"
      },
      "source": [
        "1. There are 4 columns and all are string columns\n",
        "2. There are totally 8500 rows and there seems to be mising values in Short description and Description columns, which needs to be looked into and handled\n",
        "3. Caller columns mainly contains the details of the user who raised the incident and is of not much use in our analysis and can be dropped.\n",
        "4. Assignment group is our predictor / target column with multiple classes.\n",
        "5. This is a Multiclass Classification problem"
      ]
    },
    {
      "cell_type": "code",
      "metadata": {
        "id": "QgPek0HATjiC"
      },
      "source": [
        "# Dropping the 'Caller' column\n",
        "df_incidents = df.drop('Caller',axis=1)\n"
      ],
      "execution_count": null,
      "outputs": []
    },
    {
      "cell_type": "markdown",
      "metadata": {
        "id": "K2hgA-lEVA6h"
      },
      "source": [
        "Checking classes in Assginment Group column"
      ]
    },
    {
      "cell_type": "code",
      "metadata": {
        "colab": {
          "base_uri": "https://localhost:8080/"
        },
        "id": "rykEyYbUVEl8",
        "outputId": "0166e0ac-3169-4148-e3bf-d6a6852efeb7"
      },
      "source": [
        "df_incidents['Assignment group'].unique()\n"
      ],
      "execution_count": null,
      "outputs": [
        {
          "output_type": "execute_result",
          "data": {
            "text/plain": [
              "array(['GRP_0', 'GRP_1', 'GRP_3', 'GRP_4', 'GRP_5', 'GRP_6', 'GRP_7',\n",
              "       'GRP_8', 'GRP_9', 'GRP_10', 'GRP_11', 'GRP_12', 'GRP_13', 'GRP_14',\n",
              "       'GRP_15', 'GRP_16', 'GRP_17', 'GRP_18', 'GRP_19', 'GRP_2',\n",
              "       'GRP_20', 'GRP_21', 'GRP_22', 'GRP_23', 'GRP_24', 'GRP_25',\n",
              "       'GRP_26', 'GRP_27', 'GRP_28', 'GRP_29', 'GRP_30', 'GRP_31',\n",
              "       'GRP_33', 'GRP_34', 'GRP_35', 'GRP_36', 'GRP_37', 'GRP_38',\n",
              "       'GRP_39', 'GRP_40', 'GRP_41', 'GRP_42', 'GRP_43', 'GRP_44',\n",
              "       'GRP_45', 'GRP_46', 'GRP_47', 'GRP_48', 'GRP_49', 'GRP_50',\n",
              "       'GRP_51', 'GRP_52', 'GRP_53', 'GRP_54', 'GRP_55', 'GRP_56',\n",
              "       'GRP_57', 'GRP_58', 'GRP_59', 'GRP_60', 'GRP_61', 'GRP_32',\n",
              "       'GRP_62', 'GRP_63', 'GRP_64', 'GRP_65', 'GRP_66', 'GRP_67',\n",
              "       'GRP_68', 'GRP_69', 'GRP_70', 'GRP_71', 'GRP_72', 'GRP_73'],\n",
              "      dtype=object)"
            ]
          },
          "metadata": {},
          "execution_count": 6
        }
      ]
    },
    {
      "cell_type": "code",
      "metadata": {
        "colab": {
          "base_uri": "https://localhost:8080/"
        },
        "id": "_B4Qc2nQVIrj",
        "outputId": "702b9e49-4c23-4dfb-fece-82be59ae643a"
      },
      "source": [
        "\n",
        "len(df_incidents['Assignment group'].unique())"
      ],
      "execution_count": null,
      "outputs": [
        {
          "output_type": "execute_result",
          "data": {
            "text/plain": [
              "74"
            ]
          },
          "metadata": {},
          "execution_count": 7
        }
      ]
    },
    {
      "cell_type": "markdown",
      "metadata": {
        "id": "2HEle6kYFCXk"
      },
      "source": [
        "Assignment group has 74 different classes"
      ]
    },
    {
      "cell_type": "code",
      "metadata": {
        "colab": {
          "base_uri": "https://localhost:8080/",
          "height": 206
        },
        "id": "k0IZPpFVFDgs",
        "outputId": "cf219e72-853b-485d-88c7-e7d7471f41da"
      },
      "source": [
        "df_inc = df_incidents['Assignment group'].value_counts().reset_index()\n",
        "df_inc['percentage'] = (df_inc['Assignment group']/df_inc['Assignment group'].sum())*100\n",
        "df_inc.head()"
      ],
      "execution_count": null,
      "outputs": [
        {
          "output_type": "execute_result",
          "data": {
            "text/html": [
              "<div>\n",
              "<style scoped>\n",
              "    .dataframe tbody tr th:only-of-type {\n",
              "        vertical-align: middle;\n",
              "    }\n",
              "\n",
              "    .dataframe tbody tr th {\n",
              "        vertical-align: top;\n",
              "    }\n",
              "\n",
              "    .dataframe thead th {\n",
              "        text-align: right;\n",
              "    }\n",
              "</style>\n",
              "<table border=\"1\" class=\"dataframe\">\n",
              "  <thead>\n",
              "    <tr style=\"text-align: right;\">\n",
              "      <th></th>\n",
              "      <th>index</th>\n",
              "      <th>Assignment group</th>\n",
              "      <th>percentage</th>\n",
              "    </tr>\n",
              "  </thead>\n",
              "  <tbody>\n",
              "    <tr>\n",
              "      <th>0</th>\n",
              "      <td>GRP_0</td>\n",
              "      <td>3976</td>\n",
              "      <td>46.776471</td>\n",
              "    </tr>\n",
              "    <tr>\n",
              "      <th>1</th>\n",
              "      <td>GRP_8</td>\n",
              "      <td>661</td>\n",
              "      <td>7.776471</td>\n",
              "    </tr>\n",
              "    <tr>\n",
              "      <th>2</th>\n",
              "      <td>GRP_24</td>\n",
              "      <td>289</td>\n",
              "      <td>3.400000</td>\n",
              "    </tr>\n",
              "    <tr>\n",
              "      <th>3</th>\n",
              "      <td>GRP_12</td>\n",
              "      <td>257</td>\n",
              "      <td>3.023529</td>\n",
              "    </tr>\n",
              "    <tr>\n",
              "      <th>4</th>\n",
              "      <td>GRP_9</td>\n",
              "      <td>252</td>\n",
              "      <td>2.964706</td>\n",
              "    </tr>\n",
              "  </tbody>\n",
              "</table>\n",
              "</div>"
            ],
            "text/plain": [
              "    index  Assignment group  percentage\n",
              "0   GRP_0              3976   46.776471\n",
              "1   GRP_8               661    7.776471\n",
              "2  GRP_24               289    3.400000\n",
              "3  GRP_12               257    3.023529\n",
              "4   GRP_9               252    2.964706"
            ]
          },
          "metadata": {},
          "execution_count": 8
        }
      ]
    },
    {
      "cell_type": "markdown",
      "metadata": {
        "id": "nKIHkcD0FyHC"
      },
      "source": [
        "Visualize percentage of incidents per assignment group"
      ]
    },
    {
      "cell_type": "code",
      "metadata": {
        "colab": {
          "base_uri": "https://localhost:8080/",
          "height": 405
        },
        "id": "TKbp0AHoF-wr",
        "outputId": "b57453a7-e37c-42a2-8000-89da3b7da4a5"
      },
      "source": [
        "sns.set(style=\"whitegrid\")\n",
        "plt.figure(figsize=(20,5))\n",
        "ax = sns.countplot(x=\"Assignment group\", data=df_incidents, order=df_incidents[\"Assignment group\"].value_counts().index)\n",
        "ax.set_xticklabels(ax.get_xticklabels(), rotation=90)\n",
        "for p in ax.patches:\n",
        " ax.annotate(str(format(p.get_height()/len(df_incidents.index)*100, '.2f')+\"%\"), (p.get_x() + p.get_width() / 2., p.get_height()), ha = 'center', va = 'bottom', rotation=90, xytext = (0, 10), textcoords = 'offset points')"
      ],
      "execution_count": null,
      "outputs": [
        {
          "output_type": "display_data",
          "data": {
            "image/png": "[encoded data removed]",
            "text/plain": [
              "<Figure size 1440x360 with 1 Axes>"
            ]
          },
          "metadata": {}
        }
      ]
    },
    {
      "cell_type": "markdown",
      "metadata": {
        "id": "fMSrYzeiGWQE"
      },
      "source": [
        "Noticed below points from above graph"
      ]
    },
    {
      "cell_type": "markdown",
      "metadata": {
        "id": "exlCiCwXGbZi"
      },
      "source": [
        "1. This is a imbalanced dataset, with majority of incidents are from Group 0 followed by Group 8 , 24 , 12 , 9 , 2 and so on\n",
        "2. There are few classes which just have less 10 incidents pers class and even classed with just 1 or 2 incidents, need to see if we can drop those rows due to the lack of samples representing those classes. They might not be of much help as a predictor"
      ]
    },
    {
      "cell_type": "markdown",
      "metadata": {
        "id": "akKtXzmyGo5K"
      },
      "source": [
        "Checking the top 20 Assignment groups with highest number of tickets"
      ]
    },
    {
      "cell_type": "code",
      "metadata": {
        "colab": {
          "base_uri": "https://localhost:8080/",
          "height": 676
        },
        "id": "2jWQmjQ4Gs2b",
        "outputId": "517aabde-df80-42ff-e0f3-a2a87192fde0"
      },
      "source": [
        "df_top_20 = df_incidents['Assignment group'].value_counts().nlargest(20).reset_index()\n",
        "df_top_20"
      ],
      "execution_count": null,
      "outputs": [
        {
          "output_type": "execute_result",
          "data": {
            "text/html": [
              "<div>\n",
              "<style scoped>\n",
              "    .dataframe tbody tr th:only-of-type {\n",
              "        vertical-align: middle;\n",
              "    }\n",
              "\n",
              "    .dataframe tbody tr th {\n",
              "        vertical-align: top;\n",
              "    }\n",
              "\n",
              "    .dataframe thead th {\n",
              "        text-align: right;\n",
              "    }\n",
              "</style>\n",
              "<table border=\"1\" class=\"dataframe\">\n",
              "  <thead>\n",
              "    <tr style=\"text-align: right;\">\n",
              "      <th></th>\n",
              "      <th>index</th>\n",
              "      <th>Assignment group</th>\n",
              "    </tr>\n",
              "  </thead>\n",
              "  <tbody>\n",
              "    <tr>\n",
              "      <th>0</th>\n",
              "      <td>GRP_0</td>\n",
              "      <td>3976</td>\n",
              "    </tr>\n",
              "    <tr>\n",
              "      <th>1</th>\n",
              "      <td>GRP_8</td>\n",
              "      <td>661</td>\n",
              "    </tr>\n",
              "    <tr>\n",
              "      <th>2</th>\n",
              "      <td>GRP_24</td>\n",
              "      <td>289</td>\n",
              "    </tr>\n",
              "    <tr>\n",
              "      <th>3</th>\n",
              "      <td>GRP_12</td>\n",
              "      <td>257</td>\n",
              "    </tr>\n",
              "    <tr>\n",
              "      <th>4</th>\n",
              "      <td>GRP_9</td>\n",
              "      <td>252</td>\n",
              "    </tr>\n",
              "    <tr>\n",
              "      <th>5</th>\n",
              "      <td>GRP_2</td>\n",
              "      <td>241</td>\n",
              "    </tr>\n",
              "    <tr>\n",
              "      <th>6</th>\n",
              "      <td>GRP_19</td>\n",
              "      <td>215</td>\n",
              "    </tr>\n",
              "    <tr>\n",
              "      <th>7</th>\n",
              "      <td>GRP_3</td>\n",
              "      <td>200</td>\n",
              "    </tr>\n",
              "    <tr>\n",
              "      <th>8</th>\n",
              "      <td>GRP_6</td>\n",
              "      <td>184</td>\n",
              "    </tr>\n",
              "    <tr>\n",
              "      <th>9</th>\n",
              "      <td>GRP_13</td>\n",
              "      <td>145</td>\n",
              "    </tr>\n",
              "    <tr>\n",
              "      <th>10</th>\n",
              "      <td>GRP_10</td>\n",
              "      <td>140</td>\n",
              "    </tr>\n",
              "    <tr>\n",
              "      <th>11</th>\n",
              "      <td>GRP_5</td>\n",
              "      <td>129</td>\n",
              "    </tr>\n",
              "    <tr>\n",
              "      <th>12</th>\n",
              "      <td>GRP_14</td>\n",
              "      <td>118</td>\n",
              "    </tr>\n",
              "    <tr>\n",
              "      <th>13</th>\n",
              "      <td>GRP_25</td>\n",
              "      <td>116</td>\n",
              "    </tr>\n",
              "    <tr>\n",
              "      <th>14</th>\n",
              "      <td>GRP_33</td>\n",
              "      <td>107</td>\n",
              "    </tr>\n",
              "    <tr>\n",
              "      <th>15</th>\n",
              "      <td>GRP_4</td>\n",
              "      <td>100</td>\n",
              "    </tr>\n",
              "    <tr>\n",
              "      <th>16</th>\n",
              "      <td>GRP_29</td>\n",
              "      <td>97</td>\n",
              "    </tr>\n",
              "    <tr>\n",
              "      <th>17</th>\n",
              "      <td>GRP_18</td>\n",
              "      <td>88</td>\n",
              "    </tr>\n",
              "    <tr>\n",
              "      <th>18</th>\n",
              "      <td>GRP_16</td>\n",
              "      <td>85</td>\n",
              "    </tr>\n",
              "    <tr>\n",
              "      <th>19</th>\n",
              "      <td>GRP_17</td>\n",
              "      <td>81</td>\n",
              "    </tr>\n",
              "  </tbody>\n",
              "</table>\n",
              "</div>"
            ],
            "text/plain": [
              "     index  Assignment group\n",
              "0    GRP_0              3976\n",
              "1    GRP_8               661\n",
              "2   GRP_24               289\n",
              "3   GRP_12               257\n",
              "4    GRP_9               252\n",
              "5    GRP_2               241\n",
              "6   GRP_19               215\n",
              "7    GRP_3               200\n",
              "8    GRP_6               184\n",
              "9   GRP_13               145\n",
              "10  GRP_10               140\n",
              "11   GRP_5               129\n",
              "12  GRP_14               118\n",
              "13  GRP_25               116\n",
              "14  GRP_33               107\n",
              "15   GRP_4               100\n",
              "16  GRP_29                97\n",
              "17  GRP_18                88\n",
              "18  GRP_16                85\n",
              "19  GRP_17                81"
            ]
          },
          "metadata": {},
          "execution_count": 10
        }
      ]
    },
    {
      "cell_type": "code",
      "metadata": {
        "colab": {
          "base_uri": "https://localhost:8080/",
          "height": 437
        },
        "id": "Ydh0fJfMGuMS",
        "outputId": "bf3b3e5a-6bba-4514-f0b9-da5635c002ed"
      },
      "source": [
        "plt.figure(figsize=(12,6))\n",
        "bars = plt.bar(df_top_20['index'],df_top_20['Assignment group'])\n",
        "plt.title('Top 20 Assignment groups with highest number of Tickets')\n",
        "plt.xlabel('Assignment Group')\n",
        "plt.xticks(rotation=90)\n",
        "plt.ylabel('Number of Tickets')\n",
        "\n",
        "for bar in bars:\n",
        "    yval = bar.get_height()\n",
        "    plt.text(bar.get_x(), yval + .005, yval)\n",
        "plt.tight_layout()\n",
        "plt.show()"
      ],
      "execution_count": null,
      "outputs": [
        {
          "output_type": "display_data",
          "data": {
            "image/png": "[encoded data removed]",
            "text/plain": [
              "<Figure size 864x432 with 1 Axes>"
            ]
          },
          "metadata": {}
        }
      ]
    },
    {
      "cell_type": "markdown",
      "metadata": {
        "id": "v6zvzZyrG78Z"
      },
      "source": [
        "Checking bottom 20 Assignment groups with less number of tickets"
      ]
    },
    {
      "cell_type": "code",
      "metadata": {
        "colab": {
          "base_uri": "https://localhost:8080/",
          "height": 676
        },
        "id": "A6y8G8h_G9a_",
        "outputId": "c9bacffb-4687-4939-c893-792a46537f61"
      },
      "source": [
        "df_bottom_20 = df_incidents['Assignment group'].value_counts().nsmallest(20).reset_index()\n",
        "df_bottom_20"
      ],
      "execution_count": null,
      "outputs": [
        {
          "output_type": "execute_result",
          "data": {
            "text/html": [
              "<div>\n",
              "<style scoped>\n",
              "    .dataframe tbody tr th:only-of-type {\n",
              "        vertical-align: middle;\n",
              "    }\n",
              "\n",
              "    .dataframe tbody tr th {\n",
              "        vertical-align: top;\n",
              "    }\n",
              "\n",
              "    .dataframe thead th {\n",
              "        text-align: right;\n",
              "    }\n",
              "</style>\n",
              "<table border=\"1\" class=\"dataframe\">\n",
              "  <thead>\n",
              "    <tr style=\"text-align: right;\">\n",
              "      <th></th>\n",
              "      <th>index</th>\n",
              "      <th>Assignment group</th>\n",
              "    </tr>\n",
              "  </thead>\n",
              "  <tbody>\n",
              "    <tr>\n",
              "      <th>0</th>\n",
              "      <td>GRP_67</td>\n",
              "      <td>1</td>\n",
              "    </tr>\n",
              "    <tr>\n",
              "      <th>1</th>\n",
              "      <td>GRP_35</td>\n",
              "      <td>1</td>\n",
              "    </tr>\n",
              "    <tr>\n",
              "      <th>2</th>\n",
              "      <td>GRP_73</td>\n",
              "      <td>1</td>\n",
              "    </tr>\n",
              "    <tr>\n",
              "      <th>3</th>\n",
              "      <td>GRP_61</td>\n",
              "      <td>1</td>\n",
              "    </tr>\n",
              "    <tr>\n",
              "      <th>4</th>\n",
              "      <td>GRP_64</td>\n",
              "      <td>1</td>\n",
              "    </tr>\n",
              "    <tr>\n",
              "      <th>5</th>\n",
              "      <td>GRP_70</td>\n",
              "      <td>1</td>\n",
              "    </tr>\n",
              "    <tr>\n",
              "      <th>6</th>\n",
              "      <td>GRP_72</td>\n",
              "      <td>2</td>\n",
              "    </tr>\n",
              "    <tr>\n",
              "      <th>7</th>\n",
              "      <td>GRP_57</td>\n",
              "      <td>2</td>\n",
              "    </tr>\n",
              "    <tr>\n",
              "      <th>8</th>\n",
              "      <td>GRP_54</td>\n",
              "      <td>2</td>\n",
              "    </tr>\n",
              "    <tr>\n",
              "      <th>9</th>\n",
              "      <td>GRP_71</td>\n",
              "      <td>2</td>\n",
              "    </tr>\n",
              "    <tr>\n",
              "      <th>10</th>\n",
              "      <td>GRP_69</td>\n",
              "      <td>2</td>\n",
              "    </tr>\n",
              "    <tr>\n",
              "      <th>11</th>\n",
              "      <td>GRP_68</td>\n",
              "      <td>3</td>\n",
              "    </tr>\n",
              "    <tr>\n",
              "      <th>12</th>\n",
              "      <td>GRP_63</td>\n",
              "      <td>3</td>\n",
              "    </tr>\n",
              "    <tr>\n",
              "      <th>13</th>\n",
              "      <td>GRP_38</td>\n",
              "      <td>3</td>\n",
              "    </tr>\n",
              "    <tr>\n",
              "      <th>14</th>\n",
              "      <td>GRP_58</td>\n",
              "      <td>3</td>\n",
              "    </tr>\n",
              "    <tr>\n",
              "      <th>15</th>\n",
              "      <td>GRP_56</td>\n",
              "      <td>3</td>\n",
              "    </tr>\n",
              "    <tr>\n",
              "      <th>16</th>\n",
              "      <td>GRP_66</td>\n",
              "      <td>4</td>\n",
              "    </tr>\n",
              "    <tr>\n",
              "      <th>17</th>\n",
              "      <td>GRP_32</td>\n",
              "      <td>4</td>\n",
              "    </tr>\n",
              "    <tr>\n",
              "      <th>18</th>\n",
              "      <td>GRP_43</td>\n",
              "      <td>5</td>\n",
              "    </tr>\n",
              "    <tr>\n",
              "      <th>19</th>\n",
              "      <td>GRP_46</td>\n",
              "      <td>6</td>\n",
              "    </tr>\n",
              "  </tbody>\n",
              "</table>\n",
              "</div>"
            ],
            "text/plain": [
              "     index  Assignment group\n",
              "0   GRP_67                 1\n",
              "1   GRP_35                 1\n",
              "2   GRP_73                 1\n",
              "3   GRP_61                 1\n",
              "4   GRP_64                 1\n",
              "5   GRP_70                 1\n",
              "6   GRP_72                 2\n",
              "7   GRP_57                 2\n",
              "8   GRP_54                 2\n",
              "9   GRP_71                 2\n",
              "10  GRP_69                 2\n",
              "11  GRP_68                 3\n",
              "12  GRP_63                 3\n",
              "13  GRP_38                 3\n",
              "14  GRP_58                 3\n",
              "15  GRP_56                 3\n",
              "16  GRP_66                 4\n",
              "17  GRP_32                 4\n",
              "18  GRP_43                 5\n",
              "19  GRP_46                 6"
            ]
          },
          "metadata": {},
          "execution_count": 12
        }
      ]
    },
    {
      "cell_type": "code",
      "metadata": {
        "colab": {
          "base_uri": "https://localhost:8080/",
          "height": 437
        },
        "id": "U77HMbvQG-mG",
        "outputId": "17b877d1-f34e-4b68-8f3a-377471905a84"
      },
      "source": [
        "plt.figure(figsize=(12,6))\n",
        "bars = plt.bar(df_bottom_20['index'],df_bottom_20['Assignment group'])\n",
        "plt.title('Bottom 20 Assignment groups with small number of Tickets')\n",
        "plt.xlabel('Assignment Group')\n",
        "plt.xticks(rotation=90)\n",
        "plt.ylabel('Number of Tickets')\n",
        "for bar in bars:\n",
        "    yval = bar.get_height()\n",
        "    plt.text(bar.get_x(), yval + .005, yval)\n",
        "plt.tight_layout()\n",
        "plt.show()"
      ],
      "execution_count": null,
      "outputs": [
        {
          "output_type": "display_data",
          "data": {
            "image/png": "[encoded data removed]",
            "text/plain": [
              "<Figure size 864x432 with 1 Axes>"
            ]
          },
          "metadata": {}
        }
      ]
    },
    {
      "cell_type": "markdown",
      "metadata": {
        "id": "Q-QoYRpDHi2h"
      },
      "source": [
        "Distribution of tickets counts in various bins\n"
      ]
    },
    {
      "cell_type": "code",
      "metadata": {
        "colab": {
          "base_uri": "https://localhost:8080/",
          "height": 269
        },
        "id": "H-CbCKCmHjr0",
        "outputId": "a5804009-194f-49c1-d0f2-a24864240e93"
      },
      "source": [
        "df_bins = pd.DataFrame(columns=['Description','Ticket Count'])\n",
        "one_ticket = {'Description':'1 ticket','Ticket Count':len(df_inc[df_inc['Assignment group'] < 2])}\n",
        "_2_5_ticket = {'Description':'2-5 ticket',\n",
        "              'Ticket Count':len(df_inc[(df_inc['Assignment group'] > 1)& (df_inc['Assignment group'] < 6) ])}\n",
        "_10_ticket = {'Description':' 6-10 ticket',\n",
        "              'Ticket Count':len(df_inc[(df_inc['Assignment group'] > 5)& (df_inc['Assignment group'] < 11)])}\n",
        "_10_20_ticket = {'Description':' 11-20 ticket',\n",
        "              'Ticket Count':len(df_inc[(df_inc['Assignment group'] > 10)& (df_inc['Assignment group'] < 21)])}\n",
        "_20_50_ticket = {'Description':' 21-50 ticket',\n",
        "              'Ticket Count':len(df_inc[(df_inc['Assignment group'] > 20)& (df_inc['Assignment group'] < 51)])}\n",
        "_51_100_ticket = {'Description':' 51-100 ticket',\n",
        "              'Ticket Count':len(df_inc[(df_inc['Assignment group'] > 50)& (df_inc['Assignment group'] < 101)])}\n",
        "_100_ticket = {'Description':' >100 ticket',\n",
        "              'Ticket Count':len(df_inc[(df_inc['Assignment group'] > 100)])}\n",
        "#append row to the dataframe\n",
        "df_bins = df_bins.append([one_ticket,_2_5_ticket,_10_ticket,\n",
        "                          _10_20_ticket,_20_50_ticket,_51_100_ticket,_100_ticket], ignore_index=True)\n",
        "\n",
        "df_bins"
      ],
      "execution_count": null,
      "outputs": [
        {
          "output_type": "execute_result",
          "data": {
            "text/html": [
              "<div>\n",
              "<style scoped>\n",
              "    .dataframe tbody tr th:only-of-type {\n",
              "        vertical-align: middle;\n",
              "    }\n",
              "\n",
              "    .dataframe tbody tr th {\n",
              "        vertical-align: top;\n",
              "    }\n",
              "\n",
              "    .dataframe thead th {\n",
              "        text-align: right;\n",
              "    }\n",
              "</style>\n",
              "<table border=\"1\" class=\"dataframe\">\n",
              "  <thead>\n",
              "    <tr style=\"text-align: right;\">\n",
              "      <th></th>\n",
              "      <th>Description</th>\n",
              "      <th>Ticket Count</th>\n",
              "    </tr>\n",
              "  </thead>\n",
              "  <tbody>\n",
              "    <tr>\n",
              "      <th>0</th>\n",
              "      <td>1 ticket</td>\n",
              "      <td>6</td>\n",
              "    </tr>\n",
              "    <tr>\n",
              "      <th>1</th>\n",
              "      <td>2-5 ticket</td>\n",
              "      <td>13</td>\n",
              "    </tr>\n",
              "    <tr>\n",
              "      <th>2</th>\n",
              "      <td>6-10 ticket</td>\n",
              "      <td>6</td>\n",
              "    </tr>\n",
              "    <tr>\n",
              "      <th>3</th>\n",
              "      <td>11-20 ticket</td>\n",
              "      <td>9</td>\n",
              "    </tr>\n",
              "    <tr>\n",
              "      <th>4</th>\n",
              "      <td>21-50 ticket</td>\n",
              "      <td>16</td>\n",
              "    </tr>\n",
              "    <tr>\n",
              "      <th>5</th>\n",
              "      <td>51-100 ticket</td>\n",
              "      <td>9</td>\n",
              "    </tr>\n",
              "    <tr>\n",
              "      <th>6</th>\n",
              "      <td>&gt;100 ticket</td>\n",
              "      <td>15</td>\n",
              "    </tr>\n",
              "  </tbody>\n",
              "</table>\n",
              "</div>"
            ],
            "text/plain": [
              "      Description Ticket Count\n",
              "0        1 ticket            6\n",
              "1      2-5 ticket           13\n",
              "2     6-10 ticket            6\n",
              "3    11-20 ticket            9\n",
              "4    21-50 ticket           16\n",
              "5   51-100 ticket            9\n",
              "6     >100 ticket           15"
            ]
          },
          "metadata": {},
          "execution_count": 14
        }
      ]
    },
    {
      "cell_type": "code",
      "metadata": {
        "colab": {
          "base_uri": "https://localhost:8080/",
          "height": 482
        },
        "id": "8Qb0vypgH-t4",
        "outputId": "4379cc90-d78b-4f2b-dcc3-9bb3bc93efd3"
      },
      "source": [
        "\n",
        "plt.figure(figsize=(10, 8))\n",
        "plt.pie(df_bins['Ticket Count'],labels=df_bins['Description'],autopct='%1.1f%%', startangle=15, shadow = True);\n",
        "plt.title('Assignment Groups Distribution')\n",
        "plt.axis('equal');"
      ],
      "execution_count": null,
      "outputs": [
        {
          "output_type": "display_data",
          "data": {
            "image/png": "[encoded data removed]",
            "text/plain": [
              "<Figure size 720x576 with 1 Axes>"
            ]
          },
          "metadata": {}
        }
      ]
    },
    {
      "cell_type": "markdown",
      "metadata": {
        "id": "dVt0wDG_IGmL"
      },
      "source": [
        "1. We see that there are 6 Assignment Group’s for which just have 1 ticket in the dataset\n",
        "2. There are 15 Assignment group’s which have more than 100 tickets.\n",
        "3. Only 20% of the Assignment groups have greater than 100 tickets."
      ]
    },
    {
      "cell_type": "markdown",
      "metadata": {
        "id": "tWMez6gGIoKp"
      },
      "source": [
        "Checking the missing values"
      ]
    },
    {
      "cell_type": "markdown",
      "metadata": {
        "id": "ToeaDxClItcq"
      },
      "source": [
        "There are missing values in the dataset, within 'Short decription' and 'Description' columns, lets view the missing values and impute them.\n",
        "\n"
      ]
    },
    {
      "cell_type": "code",
      "metadata": {
        "colab": {
          "base_uri": "https://localhost:8080/",
          "height": 300
        },
        "id": "NzBuMTEIItzM",
        "outputId": "5b0abd79-5781-4778-bf17-da2325c0c78f"
      },
      "source": [
        "df_incidents[df_incidents['Short description'].isnull()]\n"
      ],
      "execution_count": null,
      "outputs": [
        {
          "output_type": "execute_result",
          "data": {
            "text/html": [
              "<div>\n",
              "<style scoped>\n",
              "    .dataframe tbody tr th:only-of-type {\n",
              "        vertical-align: middle;\n",
              "    }\n",
              "\n",
              "    .dataframe tbody tr th {\n",
              "        vertical-align: top;\n",
              "    }\n",
              "\n",
              "    .dataframe thead th {\n",
              "        text-align: right;\n",
              "    }\n",
              "</style>\n",
              "<table border=\"1\" class=\"dataframe\">\n",
              "  <thead>\n",
              "    <tr style=\"text-align: right;\">\n",
              "      <th></th>\n",
              "      <th>Short description</th>\n",
              "      <th>Description</th>\n",
              "      <th>Assignment group</th>\n",
              "    </tr>\n",
              "  </thead>\n",
              "  <tbody>\n",
              "    <tr>\n",
              "      <th>2604</th>\n",
              "      <td>NaN</td>\n",
              "      <td>\\r\\n\\r\\nreceived from: ohdrnswl.rezuibdt@gmail...</td>\n",
              "      <td>GRP_34</td>\n",
              "    </tr>\n",
              "    <tr>\n",
              "      <th>3383</th>\n",
              "      <td>NaN</td>\n",
              "      <td>\\r\\n-connected to the user system using teamvi...</td>\n",
              "      <td>GRP_0</td>\n",
              "    </tr>\n",
              "    <tr>\n",
              "      <th>3906</th>\n",
              "      <td>NaN</td>\n",
              "      <td>-user unable  tologin to vpn.\\r\\n-connected to...</td>\n",
              "      <td>GRP_0</td>\n",
              "    </tr>\n",
              "    <tr>\n",
              "      <th>3910</th>\n",
              "      <td>NaN</td>\n",
              "      <td>-user unable  tologin to vpn.\\r\\n-connected to...</td>\n",
              "      <td>GRP_0</td>\n",
              "    </tr>\n",
              "    <tr>\n",
              "      <th>3915</th>\n",
              "      <td>NaN</td>\n",
              "      <td>-user unable  tologin to vpn.\\r\\n-connected to...</td>\n",
              "      <td>GRP_0</td>\n",
              "    </tr>\n",
              "    <tr>\n",
              "      <th>3921</th>\n",
              "      <td>NaN</td>\n",
              "      <td>-user unable  tologin to vpn.\\r\\n-connected to...</td>\n",
              "      <td>GRP_0</td>\n",
              "    </tr>\n",
              "    <tr>\n",
              "      <th>3924</th>\n",
              "      <td>NaN</td>\n",
              "      <td>name:wvqgbdhm fwchqjor\\nlanguage:\\nbrowser:mic...</td>\n",
              "      <td>GRP_0</td>\n",
              "    </tr>\n",
              "    <tr>\n",
              "      <th>4341</th>\n",
              "      <td>NaN</td>\n",
              "      <td>\\r\\n\\r\\nreceived from: eqmuniov.ehxkcbgj@gmail...</td>\n",
              "      <td>GRP_0</td>\n",
              "    </tr>\n",
              "  </tbody>\n",
              "</table>\n",
              "</div>"
            ],
            "text/plain": [
              "     Short description                                        Description  \\\n",
              "2604               NaN  \\r\\n\\r\\nreceived from: ohdrnswl.rezuibdt@gmail...   \n",
              "3383               NaN  \\r\\n-connected to the user system using teamvi...   \n",
              "3906               NaN  -user unable  tologin to vpn.\\r\\n-connected to...   \n",
              "3910               NaN  -user unable  tologin to vpn.\\r\\n-connected to...   \n",
              "3915               NaN  -user unable  tologin to vpn.\\r\\n-connected to...   \n",
              "3921               NaN  -user unable  tologin to vpn.\\r\\n-connected to...   \n",
              "3924               NaN  name:wvqgbdhm fwchqjor\\nlanguage:\\nbrowser:mic...   \n",
              "4341               NaN  \\r\\n\\r\\nreceived from: eqmuniov.ehxkcbgj@gmail...   \n",
              "\n",
              "     Assignment group  \n",
              "2604           GRP_34  \n",
              "3383            GRP_0  \n",
              "3906            GRP_0  \n",
              "3910            GRP_0  \n",
              "3915            GRP_0  \n",
              "3921            GRP_0  \n",
              "3924            GRP_0  \n",
              "4341            GRP_0  "
            ]
          },
          "metadata": {},
          "execution_count": 16
        }
      ]
    },
    {
      "cell_type": "code",
      "metadata": {
        "colab": {
          "base_uri": "https://localhost:8080/",
          "height": 81
        },
        "id": "efmZl7KqIvqQ",
        "outputId": "135208f2-2dd6-4a06-c590-cf56754bdcfd"
      },
      "source": [
        "df_incidents[df_incidents['Description'].isnull()]\n"
      ],
      "execution_count": null,
      "outputs": [
        {
          "output_type": "execute_result",
          "data": {
            "text/html": [
              "<div>\n",
              "<style scoped>\n",
              "    .dataframe tbody tr th:only-of-type {\n",
              "        vertical-align: middle;\n",
              "    }\n",
              "\n",
              "    .dataframe tbody tr th {\n",
              "        vertical-align: top;\n",
              "    }\n",
              "\n",
              "    .dataframe thead th {\n",
              "        text-align: right;\n",
              "    }\n",
              "</style>\n",
              "<table border=\"1\" class=\"dataframe\">\n",
              "  <thead>\n",
              "    <tr style=\"text-align: right;\">\n",
              "      <th></th>\n",
              "      <th>Short description</th>\n",
              "      <th>Description</th>\n",
              "      <th>Assignment group</th>\n",
              "    </tr>\n",
              "  </thead>\n",
              "  <tbody>\n",
              "    <tr>\n",
              "      <th>4395</th>\n",
              "      <td>i am locked out of skype</td>\n",
              "      <td>NaN</td>\n",
              "      <td>GRP_0</td>\n",
              "    </tr>\n",
              "  </tbody>\n",
              "</table>\n",
              "</div>"
            ],
            "text/plain": [
              "             Short description Description Assignment group\n",
              "4395  i am locked out of skype         NaN            GRP_0"
            ]
          },
          "metadata": {},
          "execution_count": 17
        }
      ]
    },
    {
      "cell_type": "markdown",
      "metadata": {
        "id": "TDxlAvRXI1uo"
      },
      "source": [
        "Lets replace nan values with '' (empty string)\n",
        "\n",
        "And then concatenate Short Description and Description to form a single column named 'New_Description' and use it as a predictor. so that we won't miss any necessary info about the ticket."
      ]
    },
    {
      "cell_type": "code",
      "metadata": {
        "id": "IcZQOZUEI2Et"
      },
      "source": [
        "\n",
        "#Replace NaN values in Short Description and Description columns\n",
        "df_incidents['Short description'] = df_incidents['Short description'].replace(np.nan, '', regex=True)\n",
        "df_incidents['Description'] = df_incidents['Description'].replace(np.nan, '', regex=True)"
      ],
      "execution_count": null,
      "outputs": []
    },
    {
      "cell_type": "code",
      "metadata": {
        "colab": {
          "base_uri": "https://localhost:8080/"
        },
        "id": "W16cVi7HI6sY",
        "outputId": "d0cedb60-7c85-4806-c94e-4c07e8c65800"
      },
      "source": [
        "df_incidents.info()\n"
      ],
      "execution_count": null,
      "outputs": [
        {
          "output_type": "stream",
          "name": "stdout",
          "text": [
            "<class 'pandas.core.frame.DataFrame'>\n",
            "RangeIndex: 8500 entries, 0 to 8499\n",
            "Data columns (total 3 columns):\n",
            " #   Column             Non-Null Count  Dtype \n",
            "---  ------             --------------  ----- \n",
            " 0   Short description  8500 non-null   object\n",
            " 1   Description        8500 non-null   object\n",
            " 2   Assignment group   8500 non-null   object\n",
            "dtypes: object(3)\n",
            "memory usage: 199.3+ KB\n"
          ]
        }
      ]
    },
    {
      "cell_type": "code",
      "metadata": {
        "id": "8efzhfkoI7l3"
      },
      "source": [
        "#Concatenate Short Description and Description columns\n",
        "df_incidents['New_Description'] = df_incidents['Short description'] + ' ' +df_incidents['Description']"
      ],
      "execution_count": null,
      "outputs": []
    },
    {
      "cell_type": "code",
      "metadata": {
        "id": "cHgyFpZSI9pP",
        "colab": {
          "base_uri": "https://localhost:8080/",
          "height": 206
        },
        "outputId": "71693509-164b-44a8-eb85-38e3d4cf7be6"
      },
      "source": [
        "df_incidents.head()\n"
      ],
      "execution_count": null,
      "outputs": [
        {
          "output_type": "execute_result",
          "data": {
            "text/html": [
              "<div>\n",
              "<style scoped>\n",
              "    .dataframe tbody tr th:only-of-type {\n",
              "        vertical-align: middle;\n",
              "    }\n",
              "\n",
              "    .dataframe tbody tr th {\n",
              "        vertical-align: top;\n",
              "    }\n",
              "\n",
              "    .dataframe thead th {\n",
              "        text-align: right;\n",
              "    }\n",
              "</style>\n",
              "<table border=\"1\" class=\"dataframe\">\n",
              "  <thead>\n",
              "    <tr style=\"text-align: right;\">\n",
              "      <th></th>\n",
              "      <th>Short description</th>\n",
              "      <th>Description</th>\n",
              "      <th>Assignment group</th>\n",
              "      <th>New_Description</th>\n",
              "    </tr>\n",
              "  </thead>\n",
              "  <tbody>\n",
              "    <tr>\n",
              "      <th>0</th>\n",
              "      <td>login issue</td>\n",
              "      <td>-verified user details.(employee# &amp; manager na...</td>\n",
              "      <td>GRP_0</td>\n",
              "      <td>login issue -verified user details.(employee# ...</td>\n",
              "    </tr>\n",
              "    <tr>\n",
              "      <th>1</th>\n",
              "      <td>outlook</td>\n",
              "      <td>\\r\\n\\r\\nreceived from: hmjdrvpb.komuaywn@gmail...</td>\n",
              "      <td>GRP_0</td>\n",
              "      <td>outlook \\r\\n\\r\\nreceived from: hmjdrvpb.komuay...</td>\n",
              "    </tr>\n",
              "    <tr>\n",
              "      <th>2</th>\n",
              "      <td>cant log in to vpn</td>\n",
              "      <td>\\r\\n\\r\\nreceived from: eylqgodm.ybqkwiam@gmail...</td>\n",
              "      <td>GRP_0</td>\n",
              "      <td>cant log in to vpn \\r\\n\\r\\nreceived from: eylq...</td>\n",
              "    </tr>\n",
              "    <tr>\n",
              "      <th>3</th>\n",
              "      <td>unable to access hr_tool page</td>\n",
              "      <td>unable to access hr_tool page</td>\n",
              "      <td>GRP_0</td>\n",
              "      <td>unable to access hr_tool page unable to access...</td>\n",
              "    </tr>\n",
              "    <tr>\n",
              "      <th>4</th>\n",
              "      <td>skype error</td>\n",
              "      <td>skype error</td>\n",
              "      <td>GRP_0</td>\n",
              "      <td>skype error  skype error</td>\n",
              "    </tr>\n",
              "  </tbody>\n",
              "</table>\n",
              "</div>"
            ],
            "text/plain": [
              "               Short description  \\\n",
              "0                    login issue   \n",
              "1                        outlook   \n",
              "2             cant log in to vpn   \n",
              "3  unable to access hr_tool page   \n",
              "4                   skype error    \n",
              "\n",
              "                                         Description Assignment group  \\\n",
              "0  -verified user details.(employee# & manager na...            GRP_0   \n",
              "1  \\r\\n\\r\\nreceived from: hmjdrvpb.komuaywn@gmail...            GRP_0   \n",
              "2  \\r\\n\\r\\nreceived from: eylqgodm.ybqkwiam@gmail...            GRP_0   \n",
              "3                      unable to access hr_tool page            GRP_0   \n",
              "4                                       skype error             GRP_0   \n",
              "\n",
              "                                     New_Description  \n",
              "0  login issue -verified user details.(employee# ...  \n",
              "1  outlook \\r\\n\\r\\nreceived from: hmjdrvpb.komuay...  \n",
              "2  cant log in to vpn \\r\\n\\r\\nreceived from: eylq...  \n",
              "3  unable to access hr_tool page unable to access...  \n",
              "4                          skype error  skype error   "
            ]
          },
          "metadata": {},
          "execution_count": 21
        }
      ]
    },
    {
      "cell_type": "code",
      "metadata": {
        "id": "F-P8MGxSI-x_"
      },
      "source": [
        ""
      ],
      "execution_count": null,
      "outputs": []
    }
  ]
}